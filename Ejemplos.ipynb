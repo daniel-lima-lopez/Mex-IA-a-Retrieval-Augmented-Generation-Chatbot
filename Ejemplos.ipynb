{
 "cells": [
  {
   "cell_type": "markdown",
   "metadata": {},
   "source": [
    "# MexIA: chatbot basado en RAG\n",
    "En este repositorio se muestra el proceso de procesamiento de informacion y la implmentacion del sistema MexIA. El objetivo de este proyecto es disenar un chatbot basado en RAG (Retrieval Augmented Generation) para contestar consultas de caracter legal, considerando la informacion contenida en la constitucion Mexicana.\n",
    "\n",
    "## Instalacion\n",
    "Para instalar este proyecto primero es necesario clonar este repositorio:\n",
    "```bash\n",
    "git clone git@github.com:daniel-lima-lopez/Mex-IA-a-Retrieval-Augmented-Generation-Chatbot.git\n",
    "```\n",
    "Tambien es necesario realizar una instalacion de Llama Index ([ver mas detalles](https://docs.llamaindex.ai/en/stable/getting_started/installation/)). Cabe mencionar que este proyecto emplea el modelo de lenguaje preentrenado GPT-4o-mini, por lo cual es necesario contar con una key del API de OpenAI ([tutorial](https://medium.com/@lorenzozar/how-to-get-your-own-openai-api-key-f4d44e60c327)).\n",
    "\n",
    "Una vez obtenida la key, es necesario crear un archivo nombrado `openai_key.text` y guardar la key en el."
   ]
  },
  {
   "cell_type": "markdown",
   "metadata": {},
   "source": [
    "## Implementacion\n",
    "La implementacion del modelo porpuesto se muetra a continuacion:"
   ]
  },
  {
   "cell_type": "code",
   "execution_count": 1,
   "metadata": {},
   "outputs": [],
   "source": [
    "# se cargan las librerias necesarias\n",
    "from llama_index.core import VectorStoreIndex, StorageContext, Settings\n",
    "from llama_index.core.retrievers import VectorIndexRetriever\n",
    "from llama_index.embeddings.openai import OpenAIEmbedding\n",
    "from llama_index.llms.openai import OpenAI\n",
    "from llama_index.vector_stores.chroma import ChromaVectorStore\n",
    "import chromadb\n",
    "import os\n",
    "\n",
    "class MexIA_ChatBot:\n",
    "    def __init__(self, temperature=0.5, model='gpt-4o-mini', api_path='openai_key.txt'):\n",
    "        # lectura del api de open ai\n",
    "        key = ''\n",
    "        with open(api_path, 'r') as t:\n",
    "            key = t.read()\n",
    "        os.environ[\"OPENAI_API_KEY\"] = key\n",
    "\n",
    "        # configuracion del modelo y embeding\n",
    "        embed_model = OpenAIEmbedding(model=\"text-embedding-3-small\")\n",
    "        Settings.embed_model = embed_model\n",
    "        Settings.llm = OpenAI(model=model, temperature=temperature)\n",
    "\n",
    "        # inicia el cliente\n",
    "        db = chromadb.PersistentClient(path=\"./index_data\")\n",
    "        chroma_collection = db.get_or_create_collection(\"quickstart\")\n",
    "        vector_store = ChromaVectorStore(chroma_collection=chroma_collection)\n",
    "        storage_context = StorageContext.from_defaults(vector_store=vector_store)\n",
    "\n",
    "        # lee el index del contenido almacenado\n",
    "        self.index = VectorStoreIndex.from_vector_store(\n",
    "            vector_store, storage_context=storage_context\n",
    "        )\n",
    "\n",
    "        # definicion del Retiever considerando los 5 nodos mas similares\n",
    "        self.retriever = VectorIndexRetriever(\n",
    "            index=self.index,\n",
    "            similarity_top_k=5,\n",
    "        )\n",
    "        #definicion del motor de busqueda\n",
    "        self.query_engine = self.index.as_query_engine()\n",
    "\n",
    "\n",
    "    # implementacion del diseno de promt y su respuesta dada una consulta\n",
    "    def get_answer(self, query):        \n",
    "        # contexto de la respuesta\n",
    "        context = \"Eres un asistente legal entrenado para proporcionar información sobre la \"\\\n",
    "        \"Constitución de México. Tu tarea es responder preguntas legales específicas consultando \"\\\n",
    "        \"la Constitución y proporcionar la respuesta exacta. \"\n",
    "\n",
    "        # extraccion de informacion\n",
    "        nodes = self.retriever.retrieve(query)\n",
    "        \n",
    "        # accede a la informacion del retrieve dado el query\n",
    "        docs = ''\n",
    "        for ni in nodes:\n",
    "            aux_dic = dict(ni)\n",
    "            #print(aux_dic)\n",
    "            docs += f\"DOCUMENT NAME: Document {aux_dic['node'].metadata['nombre']}  CONTENT: {aux_dic['node'].text} \\n\"\n",
    "\n",
    "        ret = \"Asegúrate de citar el o los artículos correspondientes de donde sacaste la \"\\\n",
    "        f\"información utilizando los siguientes documentos {docs}. \"\n",
    "\n",
    "        # few shot learning y definicion del formato de respuesta\n",
    "        format = \"Sé conciso pero preciso en tus respuestas. Si la pregunta se refiere a derechos \"\\\n",
    "        \"humanos, menciona la sección de la Constitución que habla sobre derechos fundamentales. \"\\\n",
    "        \"Si la pregunta es sobre procedimientos legales o derechos específicos, dirígete al artículo \"\\\n",
    "        \"relevante que trata ese tema. Formato de respuesta: Respuesta: [tu respuesta clara y concisa] \"\\\n",
    "        \"Fuente: Artículo [número del artículo] Ejemplo: Pregunta: ¿Qué derechos tienen los ciudadanos \"\\\n",
    "        \"mexicanos en cuanto a la libertad de expresión? Respuesta: Los ciudadanos mexicanos tienen \"\\\n",
    "        \"derecho a expresarse libremente, sin interferencias, siempre y cuando no se atente contra la \"\\\n",
    "        \"moral, los derechos de terceros, o provoque algún delito o disturbio. Fuente: Artículo 6 de \"\\\n",
    "        \"la Constitución de México. \"\n",
    "\n",
    "        # pregunta del usuario\n",
    "        aux_query = f\"La pregunta es {query}\"\n",
    "\n",
    "        # promt final\n",
    "        promt = context + ret + format + aux_query\n",
    "\n",
    "        # generacion de respuesta\n",
    "        response = self.query_engine.query(promt)\n",
    "        \n",
    "        return response.response"
   ]
  },
  {
   "cell_type": "code",
   "execution_count": 4,
   "metadata": {},
   "outputs": [],
   "source": [
    "import pprint\n",
    "\n",
    "# se instancia al chatbot\n",
    "chat = MexIA_ChatBot()"
   ]
  },
  {
   "cell_type": "code",
   "execution_count": 6,
   "metadata": {},
   "outputs": [
    {
     "name": "stdout",
     "output_type": "stream",
     "text": [
      "('Los trabajadores gozarán de vacaciones que nunca serán menores de veinte '\n",
      " 'días al año. Fuente: Artículo 123, fracción III.')\n"
     ]
    }
   ],
   "source": [
    "answ = chat.get_answer('los trabajadores tienen derecho a vacaciones?')\n",
    "pprint.pprint(answ)"
   ]
  }
 ],
 "metadata": {
  "kernelspec": {
   "display_name": "tf",
   "language": "python",
   "name": "python3"
  },
  "language_info": {
   "codemirror_mode": {
    "name": "ipython",
    "version": 3
   },
   "file_extension": ".py",
   "mimetype": "text/x-python",
   "name": "python",
   "nbconvert_exporter": "python",
   "pygments_lexer": "ipython3",
   "version": "3.9.18"
  }
 },
 "nbformat": 4,
 "nbformat_minor": 2
}
